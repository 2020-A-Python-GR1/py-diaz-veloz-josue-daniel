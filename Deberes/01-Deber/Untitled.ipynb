{
 "cells": [
  {
   "cell_type": "code",
   "execution_count": 17,
   "metadata": {},
   "outputs": [],
   "source": [
    "dict = [{'genero':\"Rock\",'favorito':'true', 'canciones':[{'nombre':'A'},{'nombre':'B'}]},\n",
    "        {'genero':\"Metal\",'favorito':'true','canciones':[{'nombre':'C'},{'nombre':'D'}]}\n",
    "        ,{'genero':\"Jazz\",'favorito':'true', 'canciones':[]}]\n",
    "f = open(\"Musica.txt\",\"w\")\n",
    "f.write( str(dict) )\n",
    "f.close()"
   ]
  },
  {
   "cell_type": "code",
   "execution_count": 2,
   "metadata": {},
   "outputs": [
    {
     "name": "stdout",
     "output_type": "stream",
     "text": [
      "[{'genero': 'Rock', 'favorito': 'true', 'canciones': [{'nombre': 'A'}, {'nombre': 'B'}]}, {'genero': 'Metal', 'favorito': 'true', 'canciones': [{'nombre': 'C'}, {'nombre': 'D'}]}, {'genero': 'Jazz', 'favorito': 'true', 'canciones': []}]\n",
      "Rock\n",
      "A\n",
      "B\n"
     ]
    }
   ],
   "source": [
    "import ast\n",
    "\n",
    "file = open(\"Musica.txt\", \"r\")\n",
    "\n",
    "contents = file.read()\n",
    "dictionary = ast.literal_eval(contents)\n",
    "\n",
    "file.close()\n",
    "\n",
    "print(dictionary)\n",
    "for d in dictionary:\n",
    "    print(d['genero'])\n",
    "    if d['genero'] == 'Rock':\n",
    "        for canciones in d['canciones']:\n",
    "            print(canciones['nombre']) \n",
    "    break\n",
    "    "
   ]
  },
  {
   "cell_type": "code",
   "execution_count": 36,
   "metadata": {},
   "outputs": [
    {
     "name": "stdout",
     "output_type": "stream",
     "text": [
      "Genero que quiere actualizarRock\n",
      "Parametro que quiere actualizarfavorito\n",
      "Nuevo valorfalse\n",
      "Rock\n",
      "[{'genero': 'Rock', 'favorito': 'false', 'canciones': [{'nombre': 'A'}, {'nombre': 'B'}]}, {'genero': 'Metal', 'favorito': 'true', 'canciones': [{'nombre': 'C'}, {'nombre': 'D'}]}, {'genero': 'Jazz', 'favorito': 'true', 'canciones': []}]\n"
     ]
    }
   ],
   "source": [
    "genero = input('Genero que quiere actualizar: ')\n",
    "key = input('Parametro que quiere actualizar: ')\n",
    "valor = input('Nuevo valor')\n",
    "for d in dictionary:\n",
    "    print(d['genero'])\n",
    "    if d['genero'] == genero:\n",
    "        d[key] = valor \n",
    "        break\n",
    "print(dictionary)"
   ]
  },
  {
   "cell_type": "code",
   "execution_count": 39,
   "metadata": {},
   "outputs": [
    {
     "name": "stdout",
     "output_type": "stream",
     "text": [
      "Genero que quiere eliminar: Jazz\n",
      "[{'genero': 'Rock', 'favorito': 'false', 'canciones': [{'nombre': 'A'}, {'nombre': 'B'}]}, {'genero': 'Metal', 'favorito': 'true', 'canciones': [{'nombre': 'C'}, {'nombre': 'D'}]}]\n"
     ]
    }
   ],
   "source": [
    "genero = input('Genero que quiere eliminar: ')\n",
    "for i in range(len(dictionary)): \n",
    "    if dictionary[i]['genero'] == genero: \n",
    "        del dictionary[i] \n",
    "        break\n",
    "print(dictionary)"
   ]
  },
  {
   "cell_type": "code",
   "execution_count": 9,
   "metadata": {},
   "outputs": [
    {
     "name": "stdout",
     "output_type": "stream",
     "text": [
      "Que genero escoje: Rock\n",
      "A\n",
      "B\n",
      "Cancion que quiere eliminar: a\n",
      "{'nombre': 'A'}\n",
      "{'nombre': 'B'}\n"
     ]
    }
   ],
   "source": [
    "genero = input('Que genero escoje: ')\n",
    "for d in dictionary:\n",
    "    if d['genero'] == genero:\n",
    "        for canciones in d['canciones']:\n",
    "            print(canciones['nombre'])\n",
    "        cancion = input('Cancion que quiere eliminar: ')\n",
    "        for i in range(len(d['canciones'])):\n",
    "            print(d['canciones'][i])"
   ]
  },
  {
   "cell_type": "code",
   "execution_count": null,
   "metadata": {},
   "outputs": [],
   "source": []
  }
 ],
 "metadata": {
  "kernelspec": {
   "display_name": "Python 3",
   "language": "python",
   "name": "python3"
  },
  "language_info": {
   "codemirror_mode": {
    "name": "ipython",
    "version": 3
   },
   "file_extension": ".py",
   "mimetype": "text/x-python",
   "name": "python",
   "nbconvert_exporter": "python",
   "pygments_lexer": "ipython3",
   "version": "3.7.6"
  }
 },
 "nbformat": 4,
 "nbformat_minor": 4
}
