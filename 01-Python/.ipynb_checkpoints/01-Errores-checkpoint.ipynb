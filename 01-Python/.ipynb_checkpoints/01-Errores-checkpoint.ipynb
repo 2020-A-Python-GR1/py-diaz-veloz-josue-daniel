{
 "cells": [
  {
   "cell_type": "code",
   "execution_count": 11,
   "metadata": {},
   "outputs": [],
   "source": [
    "# adfadsfa Name Error\n",
    "# dada dfad SintaxError\n",
    "# 0/0 ZerDivisionError\n",
    "# a= {'b':'b'}\n",
    "# a['c'] Key Error"
   ]
  },
  {
   "cell_type": "code",
   "execution_count": 21,
   "metadata": {},
   "outputs": [
    {
     "name": "stdout",
     "output_type": "stream",
     "text": [
      "Error comun en python\n"
     ]
    }
   ],
   "source": [
    "try:\n",
    "    #fadfads\n",
    "    #0/0\n",
    "    a= {'b':'b'}\n",
    "    a['c']\n",
    "except NameError as error:\n",
    "    print(\"NameError\")\n",
    "    print(\"Variable no declarada\")\n",
    "except (ZeroDivisionError, KeyError) as errorComun:\n",
    "    print(\"Error comun en python\")\n",
    "except Exception as error:\n",
    "    print(error)\n"
   ]
  },
  {
   "cell_type": "code",
   "execution_count": null,
   "metadata": {},
   "outputs": [],
   "source": []
  }
 ],
 "metadata": {
  "kernelspec": {
   "display_name": "Python 3",
   "language": "python",
   "name": "python3"
  },
  "language_info": {
   "codemirror_mode": {
    "name": "ipython",
    "version": 3
   },
   "file_extension": ".py",
   "mimetype": "text/x-python",
   "name": "python",
   "nbconvert_exporter": "python",
   "pygments_lexer": "ipython3",
   "version": "3.7.6"
  }
 },
 "nbformat": 4,
 "nbformat_minor": 4
}
