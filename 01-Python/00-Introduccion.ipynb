{
 "cells": [
  {
   "cell_type": "markdown",
   "metadata": {},
   "source": [
    "# Titulo 1\n",
    "###### Titulo 6\n",
    "![alt text](https://github.com/adam-p/markdown-here/raw/master/src/common/images/icon48.png \"Logo Title Text 1\")"
   ]
  },
  {
   "cell_type": "code",
   "execution_count": 1,
   "metadata": {},
   "outputs": [
    {
     "name": "stdout",
     "output_type": "stream",
     "text": [
      "Hola Mundo\n"
     ]
    }
   ],
   "source": [
    "print('Hola Mundo')"
   ]
  },
  {
   "cell_type": "code",
   "execution_count": 8,
   "metadata": {},
   "outputs": [
    {
     "name": "stdout",
     "output_type": "stream",
     "text": [
      "<class 'int'>\n",
      "<class 'float'>\n",
      "<class 'str'>\n",
      "<class 'str'>\n",
      "<class 'str'>\n",
      "<class 'bool'>\n",
      "<class 'bool'>\n",
      "<class 'NoneType'>\n"
     ]
    }
   ],
   "source": [
    "# No tipodo\n",
    "# Variables Primitivas\n",
    "entero = 4\n",
    "decimales = 1.1\n",
    "nombre = \"Vicente\"\n",
    "apellido= 'Eguez'\n",
    "segundo_nombre = \"Adrian\" #segundoNombre esta mal no camelcase\n",
    "casado = False\n",
    "profesor = True\n",
    "hijos = None\n",
    "\n",
    "print(type(entero))\n",
    "print(type(decimales))\n",
    "print(type(nombre))\n",
    "print(type(apellido))\n",
    "print(type(segundo_nombre))\n",
    "print(type(casado))\n",
    "print(type(profesor))\n",
    "print(type(hijos))"
   ]
  },
  {
   "cell_type": "code",
   "execution_count": 4,
   "metadata": {},
   "outputs": [
    {
     "name": "stdout",
     "output_type": "stream",
     "text": [
      "\n",
      "This is intended as a quick reference and showcase. For more complete info, see John Gruber's original spec and the Github-flavored Markdown info page.\n",
      "\n",
      "Note that there is also a Cheatsheet specific to Markdown Here if that's what you're looking for. You can also check out more Markdown tools.\n",
      "\n",
      "Table of Contents\n",
      "\n"
     ]
    }
   ],
   "source": [
    "cadena_de_texto = \"\"\"\n",
    "This is intended as a quick reference and showcase. For more complete info, see John Gruber's original spec and the Github-flavored Markdown info page.\n",
    "\n",
    "Note that there is also a Cheatsheet specific to Markdown Here if that's what you're looking for. You can also check out more Markdown tools.\n",
    "\n",
    "Table of Contents\n",
    "\"\"\"\n",
    "\n",
    "print(cadena_de_texto)\n"
   ]
  },
  {
   "cell_type": "code",
   "execution_count": 9,
   "metadata": {},
   "outputs": [
    {
     "name": "stdout",
     "output_type": "stream",
     "text": [
      "4\n",
      "Vicente\n"
     ]
    }
   ],
   "source": [
    "\n",
    "print(entero)\n",
    "entero = decimales\n",
    "entero = hijos\n",
    "entero = casado\n",
    "entero = nombre\n",
    "print(entero)"
   ]
  },
  {
   "cell_type": "code",
   "execution_count": 7,
   "metadata": {},
   "outputs": [
    {
     "name": "stdout",
     "output_type": "stream",
     "text": [
      "Tryty\n",
      "Falsy\n"
     ]
    }
   ],
   "source": [
    "# Condiciones\n",
    "# Truty - Falsy\n",
    "\n",
    "tuplas = (1,2,3) #Arreglos que no se pueden modificar\n",
    "listas = [4,5,6] #Arreglos que se pueden modificar\n",
    "diccionario = {\n",
    "    \"nombre\": \"Josue\"\n",
    "}\n",
    "if('Josue'): #Truty\n",
    "    #...\n",
    "    #...\n",
    "    print('Tryty')\n",
    "else:\n",
    "    # ...\n",
    "    # ...\n",
    "    print('Falsy')\n",
    "    \n",
    "if(''): #Truty\n",
    "    print('Tryty')\n",
    "else:\n",
    "    print('Falsy')\n",
    "    \n"
   ]
  }
 ],
 "metadata": {
  "kernelspec": {
   "display_name": "Python 3",
   "language": "python",
   "name": "python3"
  },
  "language_info": {
   "codemirror_mode": {
    "name": "ipython",
    "version": 3
   },
   "file_extension": ".py",
   "mimetype": "text/x-python",
   "name": "python",
   "nbconvert_exporter": "python",
   "pygments_lexer": "ipython3",
   "version": "3.7.6"
  }
 },
 "nbformat": 4,
 "nbformat_minor": 4
}
