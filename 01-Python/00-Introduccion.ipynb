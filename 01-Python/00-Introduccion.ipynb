{
 "cells": [
  {
   "cell_type": "markdown",
   "metadata": {},
   "source": [
    "# Titulo 1\n",
    "###### Titulo 6\n",
    "![alt text](https://github.com/adam-p/markdown-here/raw/master/src/common/images/icon48.png \"Logo Title Text 1\")"
   ]
  },
  {
   "cell_type": "code",
   "execution_count": 1,
   "metadata": {},
   "outputs": [
    {
     "name": "stdout",
     "output_type": "stream",
     "text": [
      "Hola Mundo\n"
     ]
    }
   ],
   "source": [
    "print('Hola Mundo')"
   ]
  },
  {
   "cell_type": "code",
   "execution_count": 4,
   "metadata": {},
   "outputs": [
    {
     "name": "stdout",
     "output_type": "stream",
     "text": [
      "<class 'int'>\n",
      "<class 'float'>\n",
      "<class 'str'>\n",
      "<class 'str'>\n",
      "<class 'str'>\n",
      "<class 'bool'>\n",
      "<class 'bool'>\n",
      "<class 'NoneType'>\n"
     ]
    }
   ],
   "source": [
    "# No tipodo\n",
    "# Variables Primitivas\n",
    "entero = 4\n",
    "decimales = 1.1\n",
    "nombre = \"Vicente\"\n",
    "apellido= 'Eguez'\n",
    "segundo_nombre = \"Adrian\" #segundoNombre esta mal no camelcase\n",
    "casado = False\n",
    "profesor = True\n",
    "hijos = None\n",
    "\n",
    "print(type(entero))\n",
    "print(type(decimales))\n",
    "print(type(nombre))\n",
    "print(type(apellido))\n",
    "print(type(segundo_nombre))\n",
    "print(type(casado))\n",
    "print(type(profesor))\n",
    "print(type(hijos))"
   ]
  },
  {
   "cell_type": "code",
   "execution_count": 4,
   "metadata": {},
   "outputs": [
    {
     "name": "stdout",
     "output_type": "stream",
     "text": [
      "\n",
      "This is intended as a quick reference and showcase. For more complete info, see John Gruber's original spec and the Github-flavored Markdown info page.\n",
      "\n",
      "Note that there is also a Cheatsheet specific to Markdown Here if that's what you're looking for. You can also check out more Markdown tools.\n",
      "\n",
      "Table of Contents\n",
      "\n"
     ]
    }
   ],
   "source": [
    "cadena_de_texto = \"\"\"\n",
    "This is intended as a quick reference and showcase. For more complete info, see John Gruber's original spec and the Github-flavored Markdown info page.\n",
    "\n",
    "Note that there is also a Cheatsheet specific to Markdown Here if that's what you're looking for. You can also check out more Markdown tools.\n",
    "\n",
    "Table of Contents\n",
    "\"\"\"\n",
    "\n",
    "print(cadena_de_texto)\n"
   ]
  },
  {
   "cell_type": "code",
   "execution_count": 9,
   "metadata": {},
   "outputs": [
    {
     "name": "stdout",
     "output_type": "stream",
     "text": [
      "4\n",
      "Vicente\n"
     ]
    }
   ],
   "source": [
    "\n",
    "print(entero)\n",
    "entero = decimales\n",
    "entero = hijos\n",
    "entero = casado\n",
    "entero = nombre\n",
    "print(entero)"
   ]
  },
  {
   "cell_type": "code",
   "execution_count": 14,
   "metadata": {},
   "outputs": [
    {
     "name": "stdout",
     "output_type": "stream",
     "text": [
      "Truty\n",
      "Falsy\n",
      "Falsy\n",
      "Truty\n",
      "Falsy\n",
      "Truty\n",
      "Truty\n",
      "Truty\n",
      "Falsy\n",
      "Truty\n",
      "Falsy\n",
      "Truty\n",
      "Falsy\n",
      "Truty\n"
     ]
    }
   ],
   "source": [
    "# Condiciones\n",
    "# Truty - Falsy\n",
    "\n",
    "tuplas = (1,2,3) #Arreglos que no se pueden modificar\n",
    "listas = [4,5,6] #Arreglos que se pueden modificar\n",
    "diccionario = {\n",
    "    \"nombre\": \"Josue\"\n",
    "}\n",
    "if('Josue'): #Truty\n",
    "    #...\n",
    "    #...\n",
    "    print('Truty')\n",
    "else:\n",
    "    # ...\n",
    "    # ...\n",
    "    print('Falsy')\n",
    "    \n",
    "if(''): #Truty\n",
    "    print('Truty')\n",
    "else:\n",
    "    print('Falsy')\n",
    "\n",
    "nulo = None\n",
    "if(nulo): #Truty\n",
    "    print('Truty')\n",
    "else:\n",
    "    print('Falsy')\n",
    "if(1):\n",
    "    print('Truty')\n",
    "else:\n",
    "    print('Falsy')\n",
    "if(0):\n",
    "    print('Truty')\n",
    "else:\n",
    "    print('Falsy')\n",
    "if(-1):\n",
    "    print('Truty')\n",
    "else:\n",
    "    print('Falsy')\n",
    "    \n",
    "if(-1.1):\n",
    "    print('Truty')\n",
    "else:\n",
    "    print('Falsy')\n",
    "if(1.2):\n",
    "    print('Truty')\n",
    "else:\n",
    "    print('Falsy')\n",
    "if(()):\n",
    "    print('Truty')\n",
    "else:\n",
    "    print('Falsy')\n",
    "if((1,2,3)):\n",
    "    print('Truty')\n",
    "else:\n",
    "    print('Falsy')\n",
    "    \n",
    "if([]):\n",
    "    print('Truty')\n",
    "else:\n",
    "    print('Falsy')\n",
    "if([1,2,3]):\n",
    "    print('Truty')\n",
    "else:\n",
    "    print('Falsy')\n",
    "if({}):\n",
    "    print('Truty')\n",
    "else:\n",
    "    print('Falsy')\n",
    "if({nombre: \"Josue\"}):\n",
    "    print('Truty')\n",
    "else:\n",
    "    print('Falsy')"
   ]
  },
  {
   "cell_type": "code",
   "execution_count": 16,
   "metadata": {},
   "outputs": [],
   "source": [
    "arreglo = [1, 2, 3, 4, 5, 6, 7, 8, 9, 10]"
   ]
  },
  {
   "cell_type": "code",
   "execution_count": 33,
   "metadata": {},
   "outputs": [
    {
     "data": {
      "text/plain": [
       "(6, 7, 8, 9)"
      ]
     },
     "execution_count": 33,
     "metadata": {},
     "output_type": "execute_result"
    }
   ],
   "source": [
    "arreglo[0:3] #[0,3[ \n",
    "arreglo[5:] #Hasta el final\n",
    "arreglo[:7] #Desde el inicio\n",
    "arreglo[-10] #negativo empieza desde el final\n",
    "arreglo[3:-2]\n",
    "arreglo[-8:8]\n",
    "arreglo[-4:-1]\n",
    "arreglo[-7:]\n",
    "arreglo[:-3]\n",
    "arreglo[:] #clonear el arreglo\n",
    "\n",
    "arregloTupla = (1,2,3,4,5,6,7,8,9,10)\n",
    "\n",
    "arregloTupla[5:9]"
   ]
  },
  {
   "cell_type": "code",
   "execution_count": 40,
   "metadata": {},
   "outputs": [
    {
     "data": {
      "text/plain": [
       "1.2"
      ]
     },
     "execution_count": 40,
     "metadata": {},
     "output_type": "execute_result"
    }
   ],
   "source": [
    "diccionario = {\n",
    "    \"nombre\":\"Josue\",\n",
    "    \"apellido\":\"Diaz\",\n",
    "    \"sueldo\": 1.2\n",
    "}\n",
    "diccionario[\"sueldo\"]"
   ]
  },
  {
   "cell_type": "code",
   "execution_count": 48,
   "metadata": {},
   "outputs": [
    {
     "data": {
      "text/plain": [
       "False"
      ]
     },
     "execution_count": 48,
     "metadata": {},
     "output_type": "execute_result"
    }
   ],
   "source": [
    "10 in arregloTupla"
   ]
  },
  {
   "cell_type": "code",
   "execution_count": 45,
   "metadata": {},
   "outputs": [
    {
     "name": "stdout",
     "output_type": "stream",
     "text": [
      "<class 'bool'>\n"
     ]
    }
   ],
   "source": [
    "print(type(12 in arreglo))"
   ]
  },
  {
   "cell_type": "code",
   "execution_count": 49,
   "metadata": {},
   "outputs": [
    {
     "data": {
      "text/plain": [
       "3"
      ]
     },
     "execution_count": 49,
     "metadata": {},
     "output_type": "execute_result"
    }
   ],
   "source": [
    "len(arreglo)\n",
    "len(arregloTupla)\n",
    "len(diccionario)"
   ]
  },
  {
   "cell_type": "code",
   "execution_count": 52,
   "metadata": {},
   "outputs": [
    {
     "data": {
      "text/plain": [
       "False"
      ]
     },
     "execution_count": 52,
     "metadata": {},
     "output_type": "execute_result"
    }
   ],
   "source": [
    "\"Josue\" in diccionario"
   ]
  },
  {
   "cell_type": "code",
   "execution_count": 54,
   "metadata": {},
   "outputs": [
    {
     "name": "stdout",
     "output_type": "stream",
     "text": [
      "1\n",
      "2\n",
      "3\n",
      "4\n",
      "5\n",
      "6\n",
      "7\n",
      "8\n",
      "9\n",
      "10\n"
     ]
    }
   ],
   "source": [
    "for numeroLista in arreglo:\n",
    "    print(numeroLista)"
   ]
  },
  {
   "cell_type": "code",
   "execution_count": 56,
   "metadata": {},
   "outputs": [
    {
     "name": "stdout",
     "output_type": "stream",
     "text": [
      "nombre\n",
      "apellido\n",
      "sueldo\n"
     ]
    }
   ],
   "source": [
    "for info in diccionario:\n",
    "    print(info)"
   ]
  },
  {
   "cell_type": "code",
   "execution_count": 60,
   "metadata": {},
   "outputs": [
    {
     "name": "stdout",
     "output_type": "stream",
     "text": [
      "0\n",
      "1\n",
      "2\n",
      "3\n",
      "4\n",
      "5\n",
      "6\n",
      "7\n",
      "8\n",
      "9\n"
     ]
    }
   ],
   "source": [
    "contador = 0\n",
    "while contador< 10:\n",
    "    print(contador)\n",
    "    contador+=1"
   ]
  },
  {
   "cell_type": "code",
   "execution_count": 62,
   "metadata": {},
   "outputs": [],
   "source": [
    "josue = {\n",
    "    True: \"Josue\",\n",
    "    False: \"Diaz\",\n",
    "    1: 12.2,\n",
    "    1.1: 89,\n",
    "    'edad': 26,\n",
    "    \"mascotas\": [{\"nombre\":\"flash\"}],\n",
    "    None: None\n",
    "}"
   ]
  },
  {
   "cell_type": "code",
   "execution_count": 70,
   "metadata": {},
   "outputs": [
    {
     "data": {
      "text/plain": [
       "[{'nombre': 'flash'}]"
      ]
     },
     "execution_count": 70,
     "metadata": {},
     "output_type": "execute_result"
    }
   ],
   "source": [
    "josue[\"mascotas\"]"
   ]
  },
  {
   "cell_type": "code",
   "execution_count": 73,
   "metadata": {},
   "outputs": [],
   "source": [
    "josue['edad']= 28\n",
    "josue['apellido']='Diaz'\n",
    "josue['mascotas'][0]['nombre']= 'Panda'"
   ]
  },
  {
   "cell_type": "code",
   "execution_count": 76,
   "metadata": {},
   "outputs": [
    {
     "data": {
      "text/plain": [
       "{True: 12.2,\n",
       " False: 'Diaz',\n",
       " 1.1: 89,\n",
       " 'edad': 28,\n",
       " 'mascotas': [{'nombre': 'Panda'}],\n",
       " 'apellido': 'Diaz'}"
      ]
     },
     "execution_count": 76,
     "metadata": {},
     "output_type": "execute_result"
    }
   ],
   "source": [
    "josue"
   ]
  },
  {
   "cell_type": "code",
   "execution_count": 78,
   "metadata": {},
   "outputs": [
    {
     "data": {
      "text/plain": [
       "dict_keys([True, False, 1.1, 'edad', 'mascotas', 'apellido'])"
      ]
     },
     "execution_count": 78,
     "metadata": {},
     "output_type": "execute_result"
    }
   ],
   "source": [
    "josue.keys()"
   ]
  },
  {
   "cell_type": "code",
   "execution_count": 80,
   "metadata": {},
   "outputs": [
    {
     "data": {
      "text/plain": [
       "dict_values([12.2, 'Diaz', 89, 28, [{'nombre': 'Panda'}], 'Diaz'])"
      ]
     },
     "execution_count": 80,
     "metadata": {},
     "output_type": "execute_result"
    }
   ],
   "source": [
    "josue.values()"
   ]
  },
  {
   "cell_type": "code",
   "execution_count": 84,
   "metadata": {},
   "outputs": [
    {
     "name": "stdout",
     "output_type": "stream",
     "text": [
      "<class 'dict_keys'>\n"
     ]
    }
   ],
   "source": [
    "print(type(josue.keys()))"
   ]
  },
  {
   "cell_type": "code",
   "execution_count": 86,
   "metadata": {},
   "outputs": [
    {
     "name": "stdout",
     "output_type": "stream",
     "text": [
      "<class 'dict_values'>\n"
     ]
    }
   ],
   "source": [
    "print(type(josue.values()))"
   ]
  },
  {
   "cell_type": "code",
   "execution_count": 88,
   "metadata": {},
   "outputs": [
    {
     "name": "stdout",
     "output_type": "stream",
     "text": [
      "True\n",
      "False\n",
      "1.1\n",
      "edad\n",
      "mascotas\n",
      "apellido\n"
     ]
    }
   ],
   "source": [
    "for llave in josue.keys():\n",
    "    print(llave)"
   ]
  },
  {
   "cell_type": "code",
   "execution_count": 90,
   "metadata": {},
   "outputs": [
    {
     "name": "stdout",
     "output_type": "stream",
     "text": [
      "12.2\n",
      "Diaz\n",
      "89\n",
      "28\n",
      "[{'nombre': 'Panda'}]\n",
      "Diaz\n"
     ]
    }
   ],
   "source": [
    "for valor in josue.values():\n",
    "        print(valor)"
   ]
  },
  {
   "cell_type": "code",
   "execution_count": 92,
   "metadata": {},
   "outputs": [
    {
     "data": {
      "text/plain": [
       "False"
      ]
     },
     "execution_count": 92,
     "metadata": {},
     "output_type": "execute_result"
    }
   ],
   "source": [
    "1 == 1 or 2 == 2\n",
    "1 != 1 and 2 != 2"
   ]
  },
  {
   "cell_type": "code",
   "execution_count": null,
   "metadata": {},
   "outputs": [],
   "source": []
  }
 ],
 "metadata": {
  "kernelspec": {
   "display_name": "Python 3",
   "language": "python",
   "name": "python3"
  },
  "language_info": {
   "codemirror_mode": {
    "name": "ipython",
    "version": 3
   },
   "file_extension": ".py",
   "mimetype": "text/x-python",
   "name": "python",
   "nbconvert_exporter": "python",
   "pygments_lexer": "ipython3",
   "version": "3.7.6"
  }
 },
 "nbformat": 4,
 "nbformat_minor": 4
}
